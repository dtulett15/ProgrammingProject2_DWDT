{
 "cells": [
  {
   "cell_type": "markdown",
   "metadata": {},
   "source": [
    "# Programming Project 2\n",
    "---\n",
    "**Author:** Dylan Tulett\n",
    "**Version:** 1.0  \n",
    "**Semester:** Fall 2020  \n",
    "\n",
    "This *notebook* contains my solution to **Programming Project 2**"
   ]
  },
  {
   "cell_type": "code",
   "execution_count": null,
   "metadata": {},
   "outputs": [],
   "source": [
    "import statistics as stats\n",
    "from prettytable import PrettyTable\n",
    "pt = PrettyTable()"
   ]
  },
  {
   "cell_type": "code",
   "execution_count": null,
   "metadata": {},
   "outputs": [],
   "source": [
    "#Part 1.\n",
    "#['FirstName','LastName','StartTerm','EndTerm','BirthState','Born','Died',\n",
    "#'InaugurationAge','DeathAge']\n",
    "presidents = [\n",
    "    ['George','Washington',1789,1797,'VA','2/22/1732','12/14/1799',57,67],\n",
    "    ['John','Adams1',1797,1801,'MA','10/30/1735','7/4/1826',61,90],\n",
    "    ['Thomas','Jefferson',1801,1809,'VA','4/13/1743','7/4/1826',57,83],\n",
    "    ['James','Madison',1809,1817,'VA','3/16/1751','6/28/1836',57,85],\n",
    "    ['James','Monroe',1817,1825,'VA','4/28/1758','7/4/1831',58,73],\n",
    "    ['John','Adams2',1825,1829,'MA','7/11/1767','2/23/1848',57,80],\n",
    "    ['Andrew','Jackson',1829,1837,'SC','3/15/1767','6/8/1845',61,78],\n",
    "    ['Martin','Van Buren',1837,1841,'NY','12/5/1782','7/24/1862',54,79],\n",
    "    ['William','Harrison1',1841,1841,'VA','2/9/1773','4/4/1841',68,68],\n",
    "    ['John','Tyler',1841,1845,'VA','3/29/1790','1/18/1862',51,71],\n",
    "    ['James','Polk',1845,1849,'NC','11/2/1795','6/15/1849',49,53],\n",
    "    ['Zachary','Taylor',1849,1850,'VA','11/24/1784','7/9/1850',64,65],\n",
    "    ['Millard','Fillmore',1850,1853,'NY','1/7/1800','3/8/1874',50,74],\n",
    "    ['Franklin','Pierce',1853,1857,'NH','11/23/1804','10/8/1869',48,64],\n",
    "    ['James','Buchanan',1857,1861,'PA','4/23/1791','6/1/1868',65,77],\n",
    "    ['Abraham','Lincoln',1861,1865,'KY','2/12/1809','4/15/1865',52,56],\n",
    "    ['Andrew','Johnson',1865,1869,'NC','12/29/1808','7/31/1875',56,66],\n",
    "    ['Ulysses','Grant',1869,1877,'OH','4/27/1822','7/23/1885',46,63],\n",
    "    ['Rutherford','Hayes',1877,1881,'OH','10/4/1822','1/17/1893',54,70],\n",
    "    ['James','Garfield',1881,1881,'OH','11/19/1831','9/19/1881',49,49],\n",
    "    ['Chester','Arthur',1881,1885,'VT','10/5/1829','11/18/1886',50,56],\n",
    "    ['Grover','Cleveland1',1885,1889,'NJ','3/18/1837','6/24/1908',47,71],\n",
    "    ['Benjamin','Harrison2',1889,1893,'OH','8/20/1833','3/13/1901',55,67],\n",
    "    ['Grover','Cleveland2',1893,1897,'NJ','3/18/1837','6/24/1908',55,71],\n",
    "]"
   ]
  },
  {
   "cell_type": "code",
   "execution_count": null,
   "metadata": {},
   "outputs": [],
   "source": [
    "#Part 2.\n",
    "def extract_column(data, column):\n",
    "    \"\"\"This function takes a list and a column index as arguments and returns \n",
    "    only the data from that column of the list.\"\"\"\n",
    "    list1 = []\n",
    "    for i in range(len(data)):\n",
    "        list1.append(presidents[i][column])\n",
    "    return list1\n"
   ]
  },
  {
   "cell_type": "code",
   "execution_count": null,
   "metadata": {},
   "outputs": [],
   "source": [
    "#Part 3.\n",
    "first_name = extract_column(presidents,0)\n",
    "last_name = extract_column(presidents,1)\n",
    "start_term = extract_column(presidents,2)\n",
    "end_term = extract_column(presidents,3)\n",
    "birth_state = extract_column(presidents,4)\n",
    "birth_date = extract_column(presidents,5)\n",
    "death_date = extract_column(presidents,6)\n",
    "inauguration_age = extract_column(presidents,7)\n",
    "death_age = extract_column(presidents,8)\n"
   ]
  },
  {
   "cell_type": "code",
   "execution_count": null,
   "metadata": {},
   "outputs": [],
   "source": [
    "#Part 4.\n",
    "names = []\n",
    "names = [item for item in zip(last_name,first_name)]"
   ]
  },
  {
   "cell_type": "code",
   "execution_count": null,
   "metadata": {},
   "outputs": [],
   "source": [
    "#Part 5.\n",
    "sorted_names = []\n",
    "sorted_names = sorted(names)"
   ]
  },
  {
   "cell_type": "code",
   "execution_count": null,
   "metadata": {},
   "outputs": [],
   "source": [
    "#Part 6.\n",
    "mean_inaug_age = stats.mean(inauguration_age)\n",
    "mean_death_age = stats.mean(death_age)"
   ]
  },
  {
   "cell_type": "code",
   "execution_count": null,
   "metadata": {},
   "outputs": [],
   "source": [
    "#Part 7.\n",
    "def get_post_term(data):\n",
    "    \"\"\"This function recieves a list of data about a single president and\n",
    "    returns the amount of years they lived after their term.\"\"\"\n",
    "    return(int(data[6][-4:])-data[3])"
   ]
  },
  {
   "cell_type": "code",
   "execution_count": null,
   "metadata": {},
   "outputs": [],
   "source": [
    "#Part 8.\n",
    "print(get_post_term(presidents[0]))\n",
    "print(get_post_term(presidents[5]))\n",
    "print(get_post_term(presidents[8]))"
   ]
  },
  {
   "cell_type": "code",
   "execution_count": null,
   "metadata": {},
   "outputs": [],
   "source": [
    "#Part 9.\n",
    "post_presidency = list(map(get_post_term,presidents[:]))"
   ]
  },
  {
   "cell_type": "code",
   "execution_count": null,
   "metadata": {},
   "outputs": [],
   "source": [
    "#Part 10.\n",
    "mean_post_presidency = stats.mean(post_presidency[:])\n"
   ]
  },
  {
   "cell_type": "code",
   "execution_count": null,
   "metadata": {},
   "outputs": [],
   "source": [
    "#Part 11.\n",
    "def calculate_summary():\n",
    "    \"\"\"This function prints a table that shows the mean: inauguration age, age at death, \n",
    "    and years alive after presidency for all presidents\"\"\"\n",
    "    pt.clear_rows()\n",
    "    pt.field_names = [\"Mean Age at Inauguration\", \"Mean Age at Death\", \"Mean Number of Years after Presidency\"]\n",
    "    pt.add_row([f'{mean_inaug_age:.2f} years', f'{mean_death_age:.2f} years', f'{mean_post_presidency:.2f} years'])\n",
    "    print(pt)"
   ]
  },
  {
   "cell_type": "code",
   "execution_count": null,
   "metadata": {},
   "outputs": [],
   "source": [
    "#Part 12.\n",
    "def convert_to_dict():\n",
    "    \"\"\"This function takes data from the president list and returns a dictionary\n",
    "    with the last names as keys and the ages at death as values\"\"\"\n",
    "    prez_dict = {}\n",
    "    for num in range(len(presidents)):\n",
    "        prez_dict[presidents[num][1]] = (presidents[num][8])\n",
    "    return(prez_dict)"
   ]
  },
  {
   "cell_type": "code",
   "execution_count": null,
   "metadata": {},
   "outputs": [],
   "source": [
    "prez_dict = convert_to_dict()"
   ]
  },
  {
   "cell_type": "code",
   "execution_count": null,
   "metadata": {},
   "outputs": [],
   "source": [
    "prez_dict"
   ]
  },
  {
   "cell_type": "code",
   "execution_count": null,
   "metadata": {},
   "outputs": [],
   "source": [
    "#Bonus 1.\n",
    "def prez_death_summary():\n",
    "    \"\"\"This function takes the pres_dict dictionary and prints a sentence that reads each \n",
    "    president's age of death.\"\"\"\n",
    "    for name, age in prez_dict.items():\n",
    "        print(f'President {name} died at {age} years old.')"
   ]
  },
  {
   "cell_type": "code",
   "execution_count": null,
   "metadata": {},
   "outputs": [],
   "source": [
    "prez_death_summary()"
   ]
  },
  {
   "cell_type": "code",
   "execution_count": null,
   "metadata": {},
   "outputs": [],
   "source": [
    "#Bonus 2.\n",
    "ages = set()\n",
    "for i in prez_dict:\n",
    "    ages.add(prez_dict.get(i))"
   ]
  },
  {
   "cell_type": "code",
   "execution_count": null,
   "metadata": {},
   "outputs": [],
   "source": [
    "ages"
   ]
  },
  {
   "cell_type": "code",
   "execution_count": null,
   "metadata": {},
   "outputs": [],
   "source": []
  }
 ],
 "metadata": {
  "kernelspec": {
   "display_name": "Python 3",
   "language": "python",
   "name": "python3"
  },
  "language_info": {
   "codemirror_mode": {
    "name": "ipython",
    "version": 3
   },
   "file_extension": ".py",
   "mimetype": "text/x-python",
   "name": "python",
   "nbconvert_exporter": "python",
   "pygments_lexer": "ipython3",
   "version": "3.8.3"
  }
 },
 "nbformat": 4,
 "nbformat_minor": 4
}
